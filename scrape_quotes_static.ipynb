{
  "nbformat": 4,
  "nbformat_minor": 0,
  "metadata": {
    "colab": {
      "provenance": [],
      "authorship_tag": "ABX9TyNjId8LWkGLR04b4icGgw1P"
    },
    "kernelspec": {
      "name": "python3",
      "display_name": "Python 3"
    },
    "language_info": {
      "name": "python"
    }
  },
  "cells": [
    {
      "cell_type": "code",
      "execution_count": 12,
      "metadata": {
        "id": "yHT1HCAO-qWQ"
      },
      "outputs": [],
      "source": [
        "!pip install requests beautifulsoup4"
      ]
    },
    {
      "cell_type": "code",
      "source": [
        "import requests\n",
        "from bs4 import BeautifulSoup\n",
        "import csv\n",
        "import os\n",
        "print(os.getcwd())\n",
        "\n",
        "url = \"http://quotes.toscrape.com\"\n",
        "response = requests.get(url)\n",
        "\n",
        "if response.status_code != 200:\n",
        "    print(\"Failed to fetch page:\", response.status_code)\n",
        "    exit()\n",
        "\n",
        "else:\n",
        "\n",
        "    soup = BeautifulSoup(response.text, 'html.parser')\n",
        "\n",
        "    quote_blocks = soup.find_all('div', class_='quote')\n",
        "\n",
        "    with open('quotes.csv', mode='w', newline='', encoding='utf-8') as file:\n",
        "        writer = csv.writer(file)\n",
        "        writer.writerow(['Quote', 'Author', 'Tags'])\n",
        "\n",
        "        for quote in quote_blocks:\n",
        "            text = quote.find('span', class_='text').text\n",
        "            author = quote.find('small', class_='author').text\n",
        "            tags = [tag.text for tag in quote.find_all('a', class_='tag')]\n",
        "\n",
        "            writer.writerow([text, author, tags])\n",
        "\n",
        "        print(\"Data has been written to 'quotes.csv'\")\n"
      ],
      "metadata": {
        "colab": {
          "base_uri": "https://localhost:8080/"
        },
        "id": "pcgKgPKf3xCd",
        "outputId": "df080b1a-a710-476d-baa5-9d55df1ed890"
      },
      "execution_count": 12,
      "outputs": [
        {
          "output_type": "stream",
          "name": "stdout",
          "text": [
            "/content\n",
            "Data has been written to 'quotes.csv'\n"
          ]
        }
      ]
    }
  ]
}