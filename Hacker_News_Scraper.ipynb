{
  "nbformat": 4,
  "nbformat_minor": 0,
  "metadata": {
    "colab": {
      "provenance": [],
      "authorship_tag": "ABX9TyP3NIc+B6ZdG/rK58vDb6m6"
    },
    "kernelspec": {
      "name": "python3",
      "display_name": "Python 3"
    },
    "language_info": {
      "name": "python"
    }
  },
  "cells": [
    {
      "cell_type": "code",
      "execution_count": 1,
      "metadata": {
        "colab": {
          "base_uri": "https://localhost:8080/"
        },
        "id": "0T2gmvazwS8d",
        "outputId": "e86db95b-6429-4a33-ee84-52f8035db881"
      },
      "outputs": [
        {
          "output_type": "stream",
          "name": "stdout",
          "text": [
            "✅ 30 headlines saved to 'hacker_news_headlines.csv' at 2025-05-13 20:27:28\n"
          ]
        }
      ],
      "source": [
        "import requests\n",
        "from bs4 import BeautifulSoup\n",
        "import csv\n",
        "from datetime import datetime\n",
        "import os\n",
        "\n",
        "url = \"https://news.ycombinator.com/\"\n",
        "response = requests.get(url)\n",
        "\n",
        "soup = BeautifulSoup(response.text, 'html.parser')\n",
        "\n",
        "articles = soup.select('.titleline > a')    #'.titleline > a' means: \"find every <a> tag inside a class='titleline'\"\n",
        "\n",
        "timestamp = datetime.now().strftime(\"%Y-%m-%d %H:%M:%S\")\n",
        "\n",
        "csv_filename = \"hacker_news_headlines.csv\"\n",
        "file_exists = os.path.isfile(csv_filename)\n",
        "\n",
        "with open(csv_filename, mode='a', newline='', encoding='utf-8') as file:\n",
        "    writer = csv.writer(file)\n",
        "\n",
        "    if not file_exists:\n",
        "        writer.writerow([\"Timestamp\", \"Title\", \"URL\"])\n",
        "\n",
        "    for article in articles:\n",
        "        title = article.text.strip()\n",
        "        link = article['href'].strip()\n",
        "        writer.writerow([timestamp, title, link])\n",
        "\n",
        "print(f\"✅ {len(articles)} headlines saved to '{csv_filename}' at {timestamp}\")\n",
        "\n",
        "\n"
      ]
    }
  ]
}